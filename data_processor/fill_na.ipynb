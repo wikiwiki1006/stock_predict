{
 "cells": [
  {
   "cell_type": "code",
   "execution_count": 3,
   "metadata": {},
   "outputs": [],
   "source": [
    "import pandas as pd\n",
    "import numpy as np\n",
    "import matplotlib.pyplot as plt"
   ]
  },
  {
   "cell_type": "code",
   "execution_count": 134,
   "metadata": {},
   "outputs": [],
   "source": [
    "df_path = '/Users/shin-yoonhwan/vscode/stock_data/model/real_final_df.csv'\n",
    "df = pd.read_csv(df_path)"
   ]
  },
  {
   "cell_type": "code",
   "execution_count": 135,
   "metadata": {},
   "outputs": [
    {
     "data": {
      "text/plain": [
       "Index(['Unnamed: 0', 'Ticker', 'Quarter', 'EPS', 'BPS', 'PER', 'PBR', 'ROE',\n",
       "       'ROA', 'ROIC', 'Debt_ratio', '매출액', '영업이익', '순이익', '자산총액', '부채총액',\n",
       "       '자본총액', '영업활동', '투자활동', '재무활동', '금리', '금리등락률', 'GDP', 'GDP등락률', '유가',\n",
       "       '유가등락률', 'S&P500', 'close', 'volume', 'Market Cap', 'Sector', 'index',\n",
       "       'Sector_idx'],\n",
       "      dtype='object')"
      ]
     },
     "execution_count": 135,
     "metadata": {},
     "output_type": "execute_result"
    }
   ],
   "source": [
    "df.columns"
   ]
  },
  {
   "cell_type": "code",
   "execution_count": 9,
   "metadata": {},
   "outputs": [
    {
     "data": {
      "text/plain": [
       "(12150, 33)"
      ]
     },
     "execution_count": 9,
     "metadata": {},
     "output_type": "execute_result"
    }
   ],
   "source": [
    "df.shape"
   ]
  },
  {
   "cell_type": "code",
   "execution_count": 145,
   "metadata": {},
   "outputs": [
    {
     "data": {
      "text/plain": [
       "Unnamed: 0      0\n",
       "Ticker          0\n",
       "Quarter         0\n",
       "EPS             0\n",
       "BPS             0\n",
       "PER             0\n",
       "PBR           782\n",
       "ROE           814\n",
       "ROA           119\n",
       "ROIC          124\n",
       "Debt_ratio    782\n",
       "매출액             5\n",
       "영업이익            5\n",
       "순이익             5\n",
       "자산총액            5\n",
       "부채총액            5\n",
       "자본총액            5\n",
       "영업활동            5\n",
       "투자활동            5\n",
       "재무활동            5\n",
       "금리              0\n",
       "금리등락률           0\n",
       "GDP             0\n",
       "GDP등락률          0\n",
       "유가              0\n",
       "유가등락률           0\n",
       "S&P500          0\n",
       "close         206\n",
       "volume        206\n",
       "Market Cap      0\n",
       "Sector          0\n",
       "index          50\n",
       "Sector_idx      0\n",
       "dtype: int64"
      ]
     },
     "execution_count": 145,
     "metadata": {},
     "output_type": "execute_result"
    }
   ],
   "source": [
    "df.isna().sum()"
   ]
  },
  {
   "cell_type": "code",
   "execution_count": 186,
   "metadata": {},
   "outputs": [],
   "source": [
    "\n",
    "pbr_na = df[df['PBR'].isnull()]['Ticker'].unique().tolist()\n",
    "roe_na = df[df['ROE'].isnull()]['Ticker'].unique().tolist()\n",
    "roa_na = df[df['ROA'].isnull()]['Ticker'].unique().tolist()\n",
    "roic_na = df[df['ROIC'].isnull()]['Ticker'].unique().tolist()\n",
    "debt_ration_na = df[df['Debt_ratio'].isnull()]['Ticker'].unique().tolist()\n"
   ]
  },
  {
   "cell_type": "code",
   "execution_count": 187,
   "metadata": {},
   "outputs": [],
   "source": [
    "same_ticker = list(set(pbr_na + roe_na + roa_na + roic_na + debt_ration_na))"
   ]
  },
  {
   "cell_type": "code",
   "execution_count": 188,
   "metadata": {},
   "outputs": [],
   "source": [
    "df_copy = df.copy()"
   ]
  },
  {
   "cell_type": "code",
   "execution_count": 189,
   "metadata": {},
   "outputs": [],
   "source": [
    "fill_kind = ['PBR', 'ROE', 'ROA', 'ROIC', 'Debt_ratio']"
   ]
  },
  {
   "cell_type": "code",
   "execution_count": 190,
   "metadata": {},
   "outputs": [],
   "source": [
    "def filler(kind):\n",
    "    for ticker in same_ticker:\n",
    "        mean = df_copy[df_copy['Ticker'] == ticker][kind].mean()\n",
    "        df_copy.loc[df_copy['Ticker'] == ticker, kind] = df_copy.loc[df_copy['Ticker'] == ticker, kind].fillna(mean)\n",
    "    print(df_copy[kind].isna().sum())\n",
    "    return df_copy"
   ]
  },
  {
   "cell_type": "code",
   "execution_count": 191,
   "metadata": {},
   "outputs": [
    {
     "name": "stdout",
     "output_type": "stream",
     "text": [
      "225\n",
      "250\n",
      "0\n",
      "0\n",
      "225\n"
     ]
    }
   ],
   "source": [
    "for kind in fill_kind:\n",
    "    df_copy = filler(kind)"
   ]
  },
  {
   "cell_type": "code",
   "execution_count": 201,
   "metadata": {},
   "outputs": [],
   "source": [
    "list1 = list(df_copy[df_copy['PBR'].isna()]['Ticker'].unique())\n",
    "list2 = list(df_copy[df_copy['ROE'].isna()]['Ticker'].unique())\n",
    "list3 = list(df_copy[df_copy['Debt_ratio'].isna()]['Ticker'].unique())\n",
    "\n",
    "all_na = list(set(list1 + list2 + list3))"
   ]
  },
  {
   "cell_type": "code",
   "execution_count": 205,
   "metadata": {},
   "outputs": [],
   "source": [
    "filled_na_df = df_copy"
   ]
  },
  {
   "cell_type": "code",
   "execution_count": 211,
   "metadata": {},
   "outputs": [
    {
     "data": {
      "text/plain": [
       "Unnamed: 0      0\n",
       "Ticker          0\n",
       "Quarter         0\n",
       "EPS             0\n",
       "BPS             0\n",
       "PER             0\n",
       "PBR             0\n",
       "ROE             0\n",
       "ROA             0\n",
       "ROIC            0\n",
       "Debt_ratio      0\n",
       "매출액             5\n",
       "영업이익            5\n",
       "순이익             5\n",
       "자산총액            5\n",
       "부채총액            5\n",
       "자본총액            5\n",
       "영업활동            5\n",
       "투자활동            5\n",
       "재무활동            5\n",
       "금리              0\n",
       "금리등락률           0\n",
       "GDP             0\n",
       "GDP등락률          0\n",
       "유가              0\n",
       "유가등락률           0\n",
       "S&P500          0\n",
       "close         204\n",
       "volume        204\n",
       "Market Cap      0\n",
       "Sector          0\n",
       "index          50\n",
       "Sector_idx      0\n",
       "dtype: int64"
      ]
     },
     "execution_count": 211,
     "metadata": {},
     "output_type": "execute_result"
    }
   ],
   "source": [
    "for ticker in all_na:\n",
    "    filled_na_df = filled_na_df.drop(filled_na_df[filled_na_df['Ticker'] == ticker].index)\n",
    "filled_na_df.isna().sum()"
   ]
  },
  {
   "cell_type": "code",
   "execution_count": 214,
   "metadata": {},
   "outputs": [],
   "source": [
    "names = ['매출액', '영업이익', '순이익', '자산총액', '부채총액', '부채총액', '자본총액', '영업활동', '투자활동', '재무활동']"
   ]
  },
  {
   "cell_type": "code",
   "execution_count": 219,
   "metadata": {},
   "outputs": [
    {
     "name": "stdout",
     "output_type": "stream",
     "text": [
      "6922.212021857924\n",
      "957.0297831021436\n",
      "717.1611189575451\n",
      "37119.160406052964\n",
      "61174.81000420345\n",
      "61174.81000420345\n",
      "17128.30088440521\n",
      "1120.1027692307691\n",
      "-853.5173484657419\n",
      "-177.8996267339218\n"
     ]
    },
    {
     "data": {
      "text/plain": [
       "Unnamed: 0      0\n",
       "Ticker          0\n",
       "Quarter         0\n",
       "EPS             0\n",
       "BPS             0\n",
       "PER             0\n",
       "PBR             0\n",
       "ROE             0\n",
       "ROA             0\n",
       "ROIC            0\n",
       "Debt_ratio      0\n",
       "매출액             0\n",
       "영업이익            0\n",
       "순이익             0\n",
       "자산총액            0\n",
       "부채총액            0\n",
       "자본총액            0\n",
       "영업활동            0\n",
       "투자활동            0\n",
       "재무활동            0\n",
       "금리              0\n",
       "금리등락률           0\n",
       "GDP             0\n",
       "GDP등락률          0\n",
       "유가              0\n",
       "유가등락률           0\n",
       "S&P500          0\n",
       "close         204\n",
       "volume        204\n",
       "Market Cap      0\n",
       "Sector          0\n",
       "index          50\n",
       "Sector_idx      0\n",
       "dtype: int64"
      ]
     },
     "execution_count": 219,
     "metadata": {},
     "output_type": "execute_result"
    }
   ],
   "source": [
    "for name in names:\n",
    "    mean = filled_na_df[name].mean()\n",
    "    print(mean)\n",
    "    filled_na_df[name] = filled_na_df[name].fillna(mean)\n",
    "filled_na_df.isna().sum()"
   ]
  },
  {
   "cell_type": "code",
   "execution_count": 220,
   "metadata": {},
   "outputs": [
    {
     "name": "stderr",
     "output_type": "stream",
     "text": [
      "/var/folders/p5/2j4jc0b97cqdybgz49lxqzv40000gn/T/ipykernel_14131/1935505339.py:2: FutureWarning: Series.fillna with 'method' is deprecated and will raise in a future version. Use obj.ffill() or obj.bfill() instead.\n",
      "  filled_na_df[x] = filled_na_df[x].fillna(method = 'bfill')\n"
     ]
    },
    {
     "data": {
      "text/plain": [
       "Unnamed: 0     0\n",
       "Ticker         0\n",
       "Quarter        0\n",
       "EPS            0\n",
       "BPS            0\n",
       "PER            0\n",
       "PBR            0\n",
       "ROE            0\n",
       "ROA            0\n",
       "ROIC           0\n",
       "Debt_ratio     0\n",
       "매출액            0\n",
       "영업이익           0\n",
       "순이익            0\n",
       "자산총액           0\n",
       "부채총액           0\n",
       "자본총액           0\n",
       "영업활동           0\n",
       "투자활동           0\n",
       "재무활동           0\n",
       "금리             0\n",
       "금리등락률          0\n",
       "GDP            0\n",
       "GDP등락률         0\n",
       "유가             0\n",
       "유가등락률          0\n",
       "S&P500         0\n",
       "close         25\n",
       "volume        25\n",
       "Market Cap     0\n",
       "Sector         0\n",
       "index         50\n",
       "Sector_idx     0\n",
       "dtype: int64"
      ]
     },
     "execution_count": 220,
     "metadata": {},
     "output_type": "execute_result"
    }
   ],
   "source": [
    "for x in ['close', 'volume']:\n",
    "    filled_na_df[x] = filled_na_df[x].fillna(method = 'bfill')\n",
    "filled_na_df.isna().sum()\n",
    "\n"
   ]
  },
  {
   "cell_type": "code",
   "execution_count": 228,
   "metadata": {},
   "outputs": [],
   "source": [
    "filled_na_df.drop(filled_na_df[filled_na_df['Ticker'] == 'REG'].index, inplace=True)"
   ]
  },
  {
   "cell_type": "code",
   "execution_count": 233,
   "metadata": {},
   "outputs": [],
   "source": [
    "final_df = filled_na_df.drop(columns=['Unnamed: 0', 'index'])"
   ]
  },
  {
   "cell_type": "code",
   "execution_count": 236,
   "metadata": {},
   "outputs": [],
   "source": [
    "final_df.to_csv('filled_na.csv', index = False)"
   ]
  },
  {
   "cell_type": "code",
   "execution_count": 58,
   "metadata": {},
   "outputs": [
    {
     "data": {
      "text/plain": [
       "np.float64(61.3)"
      ]
     },
     "execution_count": 58,
     "metadata": {},
     "output_type": "execute_result"
    }
   ],
   "source": [
    "roe = df['ROE']\n",
    "Q1 = roe.quantile(0.25)  # 1사분위수 (25%)\n",
    "Q3 = roe.quantile(0.75)  # 3사분위수 (75%)\n",
    "IQR = Q3 - Q1          # IQR 계산\n",
    "\n",
    "# 이상치 기준 설정 (1.5배 IQR을 초과하는 값)\n",
    "lower_bound = Q1 - 1.5 * IQR\n",
    "upper_bound = Q3 + 1.5 * IQR\n",
    "\n",
    "upper_bound"
   ]
  },
  {
   "cell_type": "code",
   "execution_count": null,
   "metadata": {},
   "outputs": [],
   "source": [
    "eps_outlier = []\n",
    "for value, index in zip(eps_df['EPS'], eps_df['index']):\n",
    "    if value >= 200:\n",
    "        eps_outlier.append(index)\n",
    "eps_outlier"
   ]
  },
  {
   "cell_type": "code",
   "execution_count": null,
   "metadata": {},
   "outputs": [],
   "source": []
  },
  {
   "cell_type": "code",
   "execution_count": null,
   "metadata": {},
   "outputs": [],
   "source": []
  }
 ],
 "metadata": {
  "kernelspec": {
   "display_name": "env",
   "language": "python",
   "name": "python3"
  },
  "language_info": {
   "codemirror_mode": {
    "name": "ipython",
    "version": 3
   },
   "file_extension": ".py",
   "mimetype": "text/x-python",
   "name": "python",
   "nbconvert_exporter": "python",
   "pygments_lexer": "ipython3",
   "version": "3.9.6"
  }
 },
 "nbformat": 4,
 "nbformat_minor": 2
}
