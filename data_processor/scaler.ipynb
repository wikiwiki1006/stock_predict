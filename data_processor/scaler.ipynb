{
 "cells": [
  {
   "cell_type": "code",
   "execution_count": 11,
   "metadata": {},
   "outputs": [
    {
     "data": {
      "text/plain": [
       "(25, 8)"
      ]
     },
     "execution_count": 11,
     "metadata": {},
     "output_type": "execute_result"
    }
   ],
   "source": [
    "import pandas as pd\n",
    "market_data_path = '/Users/shin-yoonhwan/vscode/stock_data/data/maket_data.csv'\n",
    "market_data_df = pd.read_csv(market_data_path)\n",
    "market_data_df.shape"
   ]
  },
  {
   "cell_type": "code",
   "execution_count": 17,
   "metadata": {},
   "outputs": [
    {
     "name": "stdout",
     "output_type": "stream",
     "text": [
      "(12150, 8)\n"
     ]
    }
   ],
   "source": [
    "df = pd.DataFrame(market_data_df)\n",
    "df_repeated = pd.concat([df] * 486, ignore_index=True)\n",
    "print(df_repeated.shape)"
   ]
  },
  {
   "cell_type": "code",
   "execution_count": 20,
   "metadata": {},
   "outputs": [
    {
     "data": {
      "text/html": [
       "<div>\n",
       "<style scoped>\n",
       "    .dataframe tbody tr th:only-of-type {\n",
       "        vertical-align: middle;\n",
       "    }\n",
       "\n",
       "    .dataframe tbody tr th {\n",
       "        vertical-align: top;\n",
       "    }\n",
       "\n",
       "    .dataframe thead th {\n",
       "        text-align: right;\n",
       "    }\n",
       "</style>\n",
       "<table border=\"1\" class=\"dataframe\">\n",
       "  <thead>\n",
       "    <tr style=\"text-align: right;\">\n",
       "      <th></th>\n",
       "      <th>금리</th>\n",
       "      <th>금리등락률</th>\n",
       "      <th>GDP</th>\n",
       "      <th>GDP등락률</th>\n",
       "      <th>유가</th>\n",
       "      <th>유가등락률</th>\n",
       "      <th>S&amp;P500</th>\n",
       "    </tr>\n",
       "  </thead>\n",
       "  <tbody>\n",
       "    <tr>\n",
       "      <th>0</th>\n",
       "      <td>5.25</td>\n",
       "      <td>-0.25</td>\n",
       "      <td>3.1</td>\n",
       "      <td>0.1</td>\n",
       "      <td>84.00</td>\n",
       "      <td>-1.26</td>\n",
       "      <td>562.01</td>\n",
       "    </tr>\n",
       "    <tr>\n",
       "      <th>1</th>\n",
       "      <td>5.50</td>\n",
       "      <td>0.00</td>\n",
       "      <td>3.0</td>\n",
       "      <td>1.4</td>\n",
       "      <td>85.26</td>\n",
       "      <td>3.96</td>\n",
       "      <td>534.01</td>\n",
       "    </tr>\n",
       "    <tr>\n",
       "      <th>2</th>\n",
       "      <td>5.50</td>\n",
       "      <td>0.00</td>\n",
       "      <td>1.6</td>\n",
       "      <td>-1.6</td>\n",
       "      <td>81.30</td>\n",
       "      <td>-2.24</td>\n",
       "      <td>521.21</td>\n",
       "    </tr>\n",
       "    <tr>\n",
       "      <th>3</th>\n",
       "      <td>5.50</td>\n",
       "      <td>0.00</td>\n",
       "      <td>3.2</td>\n",
       "      <td>-1.2</td>\n",
       "      <td>83.54</td>\n",
       "      <td>-3.18</td>\n",
       "      <td>469.33</td>\n",
       "    </tr>\n",
       "    <tr>\n",
       "      <th>4</th>\n",
       "      <td>5.50</td>\n",
       "      <td>0.25</td>\n",
       "      <td>4.4</td>\n",
       "      <td>2.0</td>\n",
       "      <td>86.72</td>\n",
       "      <td>8.92</td>\n",
       "      <td>443.37</td>\n",
       "    </tr>\n",
       "  </tbody>\n",
       "</table>\n",
       "</div>"
      ],
      "text/plain": [
       "     금리  금리등락률  GDP  GDP등락률     유가  유가등락률  S&P500\n",
       "0  5.25  -0.25  3.1     0.1  84.00  -1.26  562.01\n",
       "1  5.50   0.00  3.0     1.4  85.26   3.96  534.01\n",
       "2  5.50   0.00  1.6    -1.6  81.30  -2.24  521.21\n",
       "3  5.50   0.00  3.2    -1.2  83.54  -3.18  469.33\n",
       "4  5.50   0.25  4.4     2.0  86.72   8.92  443.37"
      ]
     },
     "execution_count": 20,
     "metadata": {},
     "output_type": "execute_result"
    }
   ],
   "source": [
    "df_repeated = df_repeated.drop(columns=['Quarter'])\n",
    "df_repeated.head()"
   ]
  },
  {
   "cell_type": "code",
   "execution_count": 21,
   "metadata": {},
   "outputs": [],
   "source": [
    "df_repeated.to_csv('repeated_df.csv')"
   ]
  },
  {
   "cell_type": "code",
   "execution_count": null,
   "metadata": {},
   "outputs": [],
   "source": []
  }
 ],
 "metadata": {
  "kernelspec": {
   "display_name": "env",
   "language": "python",
   "name": "python3"
  },
  "language_info": {
   "codemirror_mode": {
    "name": "ipython",
    "version": 3
   },
   "file_extension": ".py",
   "mimetype": "text/x-python",
   "name": "python",
   "nbconvert_exporter": "python",
   "pygments_lexer": "ipython3",
   "version": "3.9.6"
  }
 },
 "nbformat": 4,
 "nbformat_minor": 2
}
