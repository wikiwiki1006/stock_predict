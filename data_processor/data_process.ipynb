{
 "cells": [
  {
   "cell_type": "code",
   "execution_count": null,
   "metadata": {},
   "outputs": [],
   "source": [
    "import pandas as pd\n",
    "basic_info_path = '/Users/shin-yoonhwan/vscode/stock_data/data/700basic_info_df.csv'\n",
    "detail_data_path = '/Users/shin-yoonhwan/vscode/stock_data/data/detail_data_533.csv'\n",
    "all_monney_info_path = '/Users/shin-yoonhwan/vscode/stock_data/data/all_money_info.csv'\n",
    "basic_info_df = pd.read_csv(basic_info_path)\n",
    "detail_data_df = pd.read_csv(detail_data_path)\n",
    "all_monney_info_df = pd.read_csv(all_monney_info_path)"
   ]
  },
  {
   "cell_type": "code",
   "execution_count": 16,
   "metadata": {},
   "outputs": [
    {
     "name": "stdout",
     "output_type": "stream",
     "text": [
      "533\n",
      "486\n",
      "['GOOG', 'BRK.A', 'PLTR', 'APP', 'GEV', 'ABNB', 'DASH', 'CEG', 'COIN', 'SNOW', 'KVUE', 'CPNG', 'RBLX', 'LEN.B', 'GEHC', 'OWL', 'HOOD', 'RDDT', 'HEI.A', 'VLTO', 'IOT', 'TKO', 'TPG', 'GFS', 'EXE', 'WSO.B', 'EDR', 'FOX', 'ALAB', 'AFRM', 'BF.A', 'Z', 'TOST', 'NWS', 'CRBG', 'RYAN', 'SOFI', 'AZPN', 'PARAA', 'DUOL', 'RIVN', 'SYM', 'BSY', 'AGR', 'CAVA', 'LINE', 'SN']\n"
     ]
    }
   ],
   "source": [
    "print(len(basic_info_df['Ticker'].unique()))\n",
    "print(len(detail_data_df['Ticker'].unique()))\n",
    "basic_info_ticker = basic_info_df['Ticker'].unique()\n",
    "detail_data_ticker = detail_data_df['Ticker'].unique()\n",
    "not_same = [x for x in basic_info_ticker if x not in detail_data_ticker]\n",
    "print(not_same)"
   ]
  },
  {
   "cell_type": "code",
   "execution_count": 18,
   "metadata": {},
   "outputs": [
    {
     "name": "stdout",
     "output_type": "stream",
     "text": [
      "  Stock Name Ticker  Market Cap Exchange        Country  \\\n",
      "0      Apple   AAPL  $3,846,826   NASDAQ  United States   \n",
      "1     NVIDIA   NVDA  $3,298,803   NASDAQ  United States   \n",
      "2  Microsoft   MSFT  $3,246,069   NASDAQ  United States   \n",
      "3     Amazon   AMZN  $2,365,036   NASDAQ  United States   \n",
      "5   Alphabet  GOOGL  $2,343,050   NASDAQ  United States   \n",
      "\n",
      "                    Sector                   Industry  \n",
      "0  Computer and Technology  Computer - Microcomputers  \n",
      "1  Computer and Technology    Semiconductor - General  \n",
      "2  Computer and Technology          Computer Software  \n",
      "3         Retail/Wholesale          Internet Commerce  \n",
      "5  Computer and Technology          Internet Services  \n"
     ]
    }
   ],
   "source": [
    "basic_info_df_copy = basic_info_df.copy()\n",
    "for ticker in not_same:\n",
    "   basic_info_df_copy = basic_info_df_copy[basic_info_df_copy['Ticker'] != ticker]\n",
    "\n",
    "print(basic_info_df_copy.head())\n"
   ]
  },
  {
   "cell_type": "code",
   "execution_count": 19,
   "metadata": {},
   "outputs": [],
   "source": [
    "basic_info_df_copy.to_csv('dropped_basic_info.csv')"
   ]
  },
  {
   "cell_type": "code",
   "execution_count": 26,
   "metadata": {},
   "outputs": [
    {
     "name": "stdout",
     "output_type": "stream",
     "text": [
      "148\n",
      "16\n"
     ]
    }
   ],
   "source": [
    "dropped_basic_info_path = '/Users/shin-yoonhwan/vscode/stock_data/data/dropped_basic_info.csv'\n",
    "dropped_basic_info_df = pd.read_csv(dropped_basic_info_path)\n",
    "print(len(dropped_basic_info_df['Industry'].unique()))\n",
    "print(len(dropped_basic_info_df['Sector'].unique()))"
   ]
  },
  {
   "cell_type": "code",
   "execution_count": 27,
   "metadata": {},
   "outputs": [
    {
     "data": {
      "text/html": [
       "<div>\n",
       "<style scoped>\n",
       "    .dataframe tbody tr th:only-of-type {\n",
       "        vertical-align: middle;\n",
       "    }\n",
       "\n",
       "    .dataframe tbody tr th {\n",
       "        vertical-align: top;\n",
       "    }\n",
       "\n",
       "    .dataframe thead th {\n",
       "        text-align: right;\n",
       "    }\n",
       "</style>\n",
       "<table border=\"1\" class=\"dataframe\">\n",
       "  <thead>\n",
       "    <tr style=\"text-align: right;\">\n",
       "      <th></th>\n",
       "      <th>Unnamed: 0</th>\n",
       "      <th>Stock Name</th>\n",
       "      <th>Ticker</th>\n",
       "      <th>Market Cap</th>\n",
       "      <th>Exchange</th>\n",
       "      <th>Country</th>\n",
       "      <th>Sector</th>\n",
       "      <th>Industry</th>\n",
       "    </tr>\n",
       "  </thead>\n",
       "  <tbody>\n",
       "    <tr>\n",
       "      <th>0</th>\n",
       "      <td>0</td>\n",
       "      <td>Apple</td>\n",
       "      <td>AAPL</td>\n",
       "      <td>$3,846,826</td>\n",
       "      <td>NASDAQ</td>\n",
       "      <td>United States</td>\n",
       "      <td>Computer and Technology</td>\n",
       "      <td>Computer - Microcomputers</td>\n",
       "    </tr>\n",
       "    <tr>\n",
       "      <th>1</th>\n",
       "      <td>1</td>\n",
       "      <td>NVIDIA</td>\n",
       "      <td>NVDA</td>\n",
       "      <td>$3,298,803</td>\n",
       "      <td>NASDAQ</td>\n",
       "      <td>United States</td>\n",
       "      <td>Computer and Technology</td>\n",
       "      <td>Semiconductor - General</td>\n",
       "    </tr>\n",
       "    <tr>\n",
       "      <th>2</th>\n",
       "      <td>2</td>\n",
       "      <td>Microsoft</td>\n",
       "      <td>MSFT</td>\n",
       "      <td>$3,246,069</td>\n",
       "      <td>NASDAQ</td>\n",
       "      <td>United States</td>\n",
       "      <td>Computer and Technology</td>\n",
       "      <td>Computer Software</td>\n",
       "    </tr>\n",
       "    <tr>\n",
       "      <th>3</th>\n",
       "      <td>3</td>\n",
       "      <td>Amazon</td>\n",
       "      <td>AMZN</td>\n",
       "      <td>$2,365,036</td>\n",
       "      <td>NASDAQ</td>\n",
       "      <td>United States</td>\n",
       "      <td>Retail/Wholesale</td>\n",
       "      <td>Internet Commerce</td>\n",
       "    </tr>\n",
       "    <tr>\n",
       "      <th>4</th>\n",
       "      <td>5</td>\n",
       "      <td>Alphabet</td>\n",
       "      <td>GOOGL</td>\n",
       "      <td>$2,343,050</td>\n",
       "      <td>NASDAQ</td>\n",
       "      <td>United States</td>\n",
       "      <td>Computer and Technology</td>\n",
       "      <td>Internet Services</td>\n",
       "    </tr>\n",
       "    <tr>\n",
       "      <th>5</th>\n",
       "      <td>6</td>\n",
       "      <td>Meta Platforms</td>\n",
       "      <td>META</td>\n",
       "      <td>$1,477,457</td>\n",
       "      <td>NASDAQ</td>\n",
       "      <td>United States</td>\n",
       "      <td>Computer and Technology</td>\n",
       "      <td>Internet Software</td>\n",
       "    </tr>\n",
       "    <tr>\n",
       "      <th>6</th>\n",
       "      <td>7</td>\n",
       "      <td>Tesla</td>\n",
       "      <td>TSLA</td>\n",
       "      <td>$1,351,628</td>\n",
       "      <td>NASDAQ</td>\n",
       "      <td>United States</td>\n",
       "      <td>Auto/Tires/Trucks</td>\n",
       "      <td>Auto Manufacturers - Domestic</td>\n",
       "    </tr>\n",
       "    <tr>\n",
       "      <th>7</th>\n",
       "      <td>8</td>\n",
       "      <td>Broadcom</td>\n",
       "      <td>AVGO</td>\n",
       "      <td>$1,031,217</td>\n",
       "      <td>NASDAQ</td>\n",
       "      <td>United States</td>\n",
       "      <td>Computer and Technology</td>\n",
       "      <td>Semiconductors</td>\n",
       "    </tr>\n",
       "    <tr>\n",
       "      <th>8</th>\n",
       "      <td>10</td>\n",
       "      <td>Berkshire Hathaway</td>\n",
       "      <td>BRK.B</td>\n",
       "      <td>$977,286</td>\n",
       "      <td>NYSE</td>\n",
       "      <td>United States</td>\n",
       "      <td>Finance</td>\n",
       "      <td>Property, Casualty and Title Insurance</td>\n",
       "    </tr>\n",
       "    <tr>\n",
       "      <th>9</th>\n",
       "      <td>11</td>\n",
       "      <td>Walmart</td>\n",
       "      <td>WMT</td>\n",
       "      <td>$741,000</td>\n",
       "      <td>NYSE</td>\n",
       "      <td>United States</td>\n",
       "      <td>Retail/Wholesale</td>\n",
       "      <td>Retail - Supermarket Chains</td>\n",
       "    </tr>\n",
       "  </tbody>\n",
       "</table>\n",
       "</div>"
      ],
      "text/plain": [
       "   Unnamed: 0          Stock Name Ticker  Market Cap Exchange        Country  \\\n",
       "0           0               Apple   AAPL  $3,846,826   NASDAQ  United States   \n",
       "1           1              NVIDIA   NVDA  $3,298,803   NASDAQ  United States   \n",
       "2           2           Microsoft   MSFT  $3,246,069   NASDAQ  United States   \n",
       "3           3              Amazon   AMZN  $2,365,036   NASDAQ  United States   \n",
       "4           5            Alphabet  GOOGL  $2,343,050   NASDAQ  United States   \n",
       "5           6      Meta Platforms   META  $1,477,457   NASDAQ  United States   \n",
       "6           7               Tesla   TSLA  $1,351,628   NASDAQ  United States   \n",
       "7           8            Broadcom   AVGO  $1,031,217   NASDAQ  United States   \n",
       "8          10  Berkshire Hathaway  BRK.B    $977,286     NYSE  United States   \n",
       "9          11             Walmart    WMT    $741,000     NYSE  United States   \n",
       "\n",
       "                    Sector                                Industry  \n",
       "0  Computer and Technology               Computer - Microcomputers  \n",
       "1  Computer and Technology                 Semiconductor - General  \n",
       "2  Computer and Technology                       Computer Software  \n",
       "3         Retail/Wholesale                       Internet Commerce  \n",
       "4  Computer and Technology                       Internet Services  \n",
       "5  Computer and Technology                       Internet Software  \n",
       "6        Auto/Tires/Trucks           Auto Manufacturers - Domestic  \n",
       "7  Computer and Technology                          Semiconductors  \n",
       "8                  Finance  Property, Casualty and Title Insurance  \n",
       "9         Retail/Wholesale             Retail - Supermarket Chains  "
      ]
     },
     "execution_count": 27,
     "metadata": {},
     "output_type": "execute_result"
    }
   ],
   "source": [
    "dropped_basic_info_df.head(10)"
   ]
  },
  {
   "cell_type": "code",
   "execution_count": 37,
   "metadata": {},
   "outputs": [
    {
     "name": "stdout",
     "output_type": "stream",
     "text": [
      "(12150, 10)\n",
      "(12025, 11)\n"
     ]
    }
   ],
   "source": [
    "detail_data_path = '/Users/shin-yoonhwan/vscode/stock_data/data/detail_data_533.csv'\n",
    "all_money_info_path = '/Users/shin-yoonhwan/vscode/stock_data/data/all_money_info.csv'\n",
    "\n",
    "detail_data_df = pd.read_csv(detail_data_path)\n",
    "all_money_info_df = pd.read_csv(all_money_info_path)\n",
    "print(detail_data_df.shape)\n",
    "print(all_money_info_df.shape)"
   ]
  },
  {
   "cell_type": "code",
   "execution_count": 42,
   "metadata": {},
   "outputs": [],
   "source": [
    "all_combined_path = '/Users/shin-yoonhwan/vscode/stock_data/data/combined_data/all_combined_data.csv'\n",
    "all_combined_df = pd.read_csv(all_combined_path)\n",
    "df = pd.DataFrame(all_combined_df)\n",
    "\n",
    "def convert_to_quarter(date):\n",
    "    return pd.Series(date).str.replace(\n",
    "        r'(\\d{2})\\.(\\d{2})/\\d{2}',  # 정규표현식: 연도.월/일\n",
    "        lambda m: f\"{m.group(1)}.Q{(int(m.group(2)) - 1) // 3 + 1}\",  # 쿼터 계산\n",
    "        regex=True\n",
    "    )\n",
    "\n",
    "# 변환 적용\n",
    "df['Quarter'] = convert_to_quarter(df['Quarter'])\n",
    "\n",
    "df.to_csv('converted_quarter.csv', index = False)"
   ]
  },
  {
   "cell_type": "code",
   "execution_count": 2,
   "metadata": {},
   "outputs": [
    {
     "data": {
      "text/plain": [
       "(12150, 27)"
      ]
     },
     "execution_count": 2,
     "metadata": {},
     "output_type": "execute_result"
    }
   ],
   "source": [
    "import pandas as pd\n",
    "final_df_path = '/Users/shin-yoonhwan/vscode/stock_data/data/combined_data/converted_quarter.csv'\n",
    "final_df = pd.read_csv(final_df_path)\n",
    "final_df.shape"
   ]
  },
  {
   "cell_type": "code",
   "execution_count": 15,
   "metadata": {},
   "outputs": [
    {
     "name": "stdout",
     "output_type": "stream",
     "text": [
      "486\n"
     ]
    }
   ],
   "source": [
    "final_df_ticker = final_df['Ticker'].unique()\n",
    "print(len(final_df_ticker))"
   ]
  },
  {
   "cell_type": "code",
   "execution_count": 17,
   "metadata": {},
   "outputs": [
    {
     "name": "stdout",
     "output_type": "stream",
     "text": [
      "  Stock Name Ticker  Market Cap Exchange        Country  \\\n",
      "0      Apple   AAPL  $3,846,826   NASDAQ  United States   \n",
      "1     NVIDIA   NVDA  $3,298,803   NASDAQ  United States   \n",
      "2  Microsoft   MSFT  $3,246,069   NASDAQ  United States   \n",
      "3     Amazon   AMZN  $2,365,036   NASDAQ  United States   \n",
      "4   Alphabet  GOOGL  $2,343,050   NASDAQ  United States   \n",
      "\n",
      "                    Sector                   Industry  \n",
      "0  Computer and Technology  Computer - Microcomputers  \n",
      "1  Computer and Technology    Semiconductor - General  \n",
      "2  Computer and Technology          Computer Software  \n",
      "3         Retail/Wholesale          Internet Commerce  \n",
      "4  Computer and Technology          Internet Services  \n"
     ]
    }
   ],
   "source": [
    "basic_info_path = '/Users/shin-yoonhwan/vscode/stock_data/data/basic_data/dropped_basic_info.csv'\n",
    "basic_info_df = pd.read_csv(basic_info_path)\n",
    "\n",
    "filtered = basic_info_df['Ticker'].isin(final_df_ticker)\n",
    "filtered_basic_df = basic_info_df[filtered]\n",
    "filtered_basic_df.drop(columns=['Unnamed: 0'], inplace=True)\n",
    "print(filtered_basic_df.head())\n",
    "\n",
    "    \n",
    "    "
   ]
  },
  {
   "cell_type": "code",
   "execution_count": 20,
   "metadata": {},
   "outputs": [],
   "source": [
    "filtered_basic_df.to_csv('filtered_basic_info.csv', index=False)"
   ]
  },
  {
   "cell_type": "code",
   "execution_count": 21,
   "metadata": {},
   "outputs": [],
   "source": [
    "converted_quarter_path = '/Users/shin-yoonhwan/vscode/stock_data/data/combined_data/converted_quarter.csv'\n",
    "converted_quarter_df = pd.read_csv(converted_quarter_path)"
   ]
  },
  {
   "cell_type": "code",
   "execution_count": 24,
   "metadata": {},
   "outputs": [
    {
     "data": {
      "text/html": [
       "<div>\n",
       "<style scoped>\n",
       "    .dataframe tbody tr th:only-of-type {\n",
       "        vertical-align: middle;\n",
       "    }\n",
       "\n",
       "    .dataframe tbody tr th {\n",
       "        vertical-align: top;\n",
       "    }\n",
       "\n",
       "    .dataframe thead th {\n",
       "        text-align: right;\n",
       "    }\n",
       "</style>\n",
       "<table border=\"1\" class=\"dataframe\">\n",
       "  <thead>\n",
       "    <tr style=\"text-align: right;\">\n",
       "      <th></th>\n",
       "      <th>Unnamed: 0</th>\n",
       "      <th>Ticker</th>\n",
       "      <th>Quarter</th>\n",
       "      <th>EPS</th>\n",
       "      <th>BPS</th>\n",
       "      <th>PER</th>\n",
       "      <th>PBR</th>\n",
       "      <th>ROE</th>\n",
       "      <th>ROA</th>\n",
       "      <th>ROIC</th>\n",
       "      <th>...</th>\n",
       "      <th>투자활동</th>\n",
       "      <th>재무활동</th>\n",
       "      <th>금리</th>\n",
       "      <th>금리등락률</th>\n",
       "      <th>GDP</th>\n",
       "      <th>GDP등락률</th>\n",
       "      <th>유가</th>\n",
       "      <th>유가등락률</th>\n",
       "      <th>S&amp;P500</th>\n",
       "      <th>Sector</th>\n",
       "    </tr>\n",
       "  </thead>\n",
       "  <tbody>\n",
       "    <tr>\n",
       "      <th>0</th>\n",
       "      <td>0</td>\n",
       "      <td>AAPL</td>\n",
       "      <td>24.Q3</td>\n",
       "      <td>6.08</td>\n",
       "      <td>3.71</td>\n",
       "      <td>36.95</td>\n",
       "      <td>60.81</td>\n",
       "      <td>137.90</td>\n",
       "      <td>27.0</td>\n",
       "      <td>44.40</td>\n",
       "      <td>...</td>\n",
       "      <td>1,445</td>\n",
       "      <td>-24,948</td>\n",
       "      <td>5.25</td>\n",
       "      <td>-0.25</td>\n",
       "      <td>3.1</td>\n",
       "      <td>0.1</td>\n",
       "      <td>84.00</td>\n",
       "      <td>-1.26</td>\n",
       "      <td>562.01</td>\n",
       "      <td>Computer and Technology</td>\n",
       "    </tr>\n",
       "    <tr>\n",
       "      <th>1</th>\n",
       "      <td>1</td>\n",
       "      <td>AAPL</td>\n",
       "      <td>24.Q2</td>\n",
       "      <td>6.57</td>\n",
       "      <td>4.36</td>\n",
       "      <td>31.68</td>\n",
       "      <td>48.42</td>\n",
       "      <td>147.20</td>\n",
       "      <td>29.7</td>\n",
       "      <td>42.50</td>\n",
       "      <td>...</td>\n",
       "      <td>-127</td>\n",
       "      <td>-36,017</td>\n",
       "      <td>5.50</td>\n",
       "      <td>0.00</td>\n",
       "      <td>3.0</td>\n",
       "      <td>1.4</td>\n",
       "      <td>85.26</td>\n",
       "      <td>3.96</td>\n",
       "      <td>534.01</td>\n",
       "      <td>Computer and Technology</td>\n",
       "    </tr>\n",
       "    <tr>\n",
       "      <th>2</th>\n",
       "      <td>2</td>\n",
       "      <td>AAPL</td>\n",
       "      <td>24.Q1</td>\n",
       "      <td>6.43</td>\n",
       "      <td>4.82</td>\n",
       "      <td>26.38</td>\n",
       "      <td>35.69</td>\n",
       "      <td>148.30</td>\n",
       "      <td>29.1</td>\n",
       "      <td>41.00</td>\n",
       "      <td>...</td>\n",
       "      <td>-310</td>\n",
       "      <td>-30,433</td>\n",
       "      <td>5.50</td>\n",
       "      <td>0.00</td>\n",
       "      <td>1.6</td>\n",
       "      <td>-1.6</td>\n",
       "      <td>81.30</td>\n",
       "      <td>-2.24</td>\n",
       "      <td>521.21</td>\n",
       "      <td>Computer and Technology</td>\n",
       "    </tr>\n",
       "    <tr>\n",
       "      <th>3</th>\n",
       "      <td>3</td>\n",
       "      <td>AAPL</td>\n",
       "      <td>23.Q4</td>\n",
       "      <td>6.42</td>\n",
       "      <td>4.78</td>\n",
       "      <td>29.67</td>\n",
       "      <td>40.41</td>\n",
       "      <td>156.00</td>\n",
       "      <td>29.4</td>\n",
       "      <td>40.70</td>\n",
       "      <td>...</td>\n",
       "      <td>1,927</td>\n",
       "      <td>-30,585</td>\n",
       "      <td>5.50</td>\n",
       "      <td>0.00</td>\n",
       "      <td>3.2</td>\n",
       "      <td>-1.2</td>\n",
       "      <td>83.54</td>\n",
       "      <td>-3.18</td>\n",
       "      <td>469.33</td>\n",
       "      <td>Computer and Technology</td>\n",
       "    </tr>\n",
       "    <tr>\n",
       "      <th>4</th>\n",
       "      <td>4</td>\n",
       "      <td>AAPL</td>\n",
       "      <td>23.Q3</td>\n",
       "      <td>6.13</td>\n",
       "      <td>3.95</td>\n",
       "      <td>27.60</td>\n",
       "      <td>43.07</td>\n",
       "      <td>160.80</td>\n",
       "      <td>28.4</td>\n",
       "      <td>38.70</td>\n",
       "      <td>...</td>\n",
       "      <td>2,394</td>\n",
       "      <td>-23,153</td>\n",
       "      <td>5.50</td>\n",
       "      <td>0.25</td>\n",
       "      <td>4.4</td>\n",
       "      <td>2.0</td>\n",
       "      <td>86.72</td>\n",
       "      <td>8.92</td>\n",
       "      <td>443.37</td>\n",
       "      <td>Computer and Technology</td>\n",
       "    </tr>\n",
       "  </tbody>\n",
       "</table>\n",
       "<p>5 rows × 28 columns</p>\n",
       "</div>"
      ],
      "text/plain": [
       "   Unnamed: 0 Ticker Quarter   EPS   BPS    PER    PBR     ROE   ROA   ROIC  \\\n",
       "0           0   AAPL   24.Q3  6.08  3.71  36.95  60.81  137.90  27.0  44.40   \n",
       "1           1   AAPL   24.Q2  6.57  4.36  31.68  48.42  147.20  29.7  42.50   \n",
       "2           2   AAPL   24.Q1  6.43  4.82  26.38  35.69  148.30  29.1  41.00   \n",
       "3           3   AAPL   23.Q4  6.42  4.78  29.67  40.41  156.00  29.4  40.70   \n",
       "4           4   AAPL   23.Q3  6.13  3.95  27.60  43.07  160.80  28.4  38.70   \n",
       "\n",
       "   ...   투자활동     재무활동    금리 금리등락률  GDP GDP등락률     유가 유가등락률  S&P500  \\\n",
       "0  ...  1,445  -24,948  5.25 -0.25  3.1    0.1  84.00 -1.26  562.01   \n",
       "1  ...   -127  -36,017  5.50  0.00  3.0    1.4  85.26  3.96  534.01   \n",
       "2  ...   -310  -30,433  5.50  0.00  1.6   -1.6  81.30 -2.24  521.21   \n",
       "3  ...  1,927  -30,585  5.50  0.00  3.2   -1.2  83.54 -3.18  469.33   \n",
       "4  ...  2,394  -23,153  5.50  0.25  4.4    2.0  86.72  8.92  443.37   \n",
       "\n",
       "                    Sector  \n",
       "0  Computer and Technology  \n",
       "1  Computer and Technology  \n",
       "2  Computer and Technology  \n",
       "3  Computer and Technology  \n",
       "4  Computer and Technology  \n",
       "\n",
       "[5 rows x 28 columns]"
      ]
     },
     "execution_count": 24,
     "metadata": {},
     "output_type": "execute_result"
    }
   ],
   "source": [
    "merged_basic_detail_df = pd.merge(converted_quarter_df, filtered_basic_df[['Ticker', 'Sector']], on = ['Ticker'], how = 'left')\n",
    "merged_basic_detail_df.head()"
   ]
  },
  {
   "cell_type": "code",
   "execution_count": 26,
   "metadata": {},
   "outputs": [
    {
     "data": {
      "text/plain": [
       "array(['Computer and Technology', 'Retail/Wholesale', 'Auto/Tires/Trucks',\n",
       "       'Finance', 'Medical', 'Business Services', 'Oils/Energy',\n",
       "       'Consumer Staples', 'Consumer Discretionary', 'Transportation',\n",
       "       'Industrial Products', 'Multi-Sector Conglomerates', 'Aerospace',\n",
       "       'Utilities', 'Basic Materials', 'Construction'], dtype=object)"
      ]
     },
     "execution_count": 26,
     "metadata": {},
     "output_type": "execute_result"
    }
   ],
   "source": [
    "merged_basic_detail_df['Sector'].unique()"
   ]
  },
  {
   "cell_type": "code",
   "execution_count": 30,
   "metadata": {},
   "outputs": [],
   "source": [
    "ticker_df = pd.DataFrame(final_df_ticker)\n",
    "ticker_df.to_csv('final_ticker.csv', index = False)"
   ]
  },
  {
   "cell_type": "code",
   "execution_count": null,
   "metadata": {},
   "outputs": [],
   "source": []
  }
 ],
 "metadata": {
  "kernelspec": {
   "display_name": "env",
   "language": "python",
   "name": "python3"
  },
  "language_info": {
   "codemirror_mode": {
    "name": "ipython",
    "version": 3
   },
   "file_extension": ".py",
   "mimetype": "text/x-python",
   "name": "python",
   "nbconvert_exporter": "python",
   "pygments_lexer": "ipython3",
   "version": "3.9.6"
  }
 },
 "nbformat": 4,
 "nbformat_minor": 2
}
